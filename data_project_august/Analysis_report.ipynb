{
  "nbformat": 4,
  "nbformat_minor": 0,
  "metadata": {
    "colab": {
      "name": "Analysis_report",
      "provenance": [],
      "collapsed_sections": [],
      "toc_visible": true
    },
    "kernelspec": {
      "name": "python3",
      "display_name": "Python 3"
    },
    "language_info": {
      "name": "python"
    }
  },
  "cells": [
    {
      "cell_type": "markdown",
      "metadata": {
        "id": "FGf1TeUSfx7j"
      },
      "source": [
        "비서울권 관광 인프라와 방문자 수의 상관 관계 분석\n",
        "=====================================================\n",
        "> Hyphothesis : 외부 방문자 수가 많은 지역은 관광 인프라도 많이 조성되어 있다.\n",
        ">  - 외부 방문자 수와 관광 인프라의 상관 계수가 높을 것으로 예상\n",
        "\n",
        "----------------------------------------------\n",
        "> 서울 지역은 왜 제외되었나요?\n",
        "> * 서울 지역은 인구 밀도가 매우 높고 모든 인프라가 발달되어 있기에 결과에 왜곡이 발생할 것 같아서 제외"
      ]
    },
    {
      "cell_type": "markdown",
      "metadata": {
        "id": "qn7b7uqwhn1U"
      },
      "source": [
        "## 데이터 출처 및 참고 자료\n",
        "\n",
        "- [한국관광데이터랩(외부관광객수)](https://datalab.visitkorea.or.kr/datalab/portal/bda/getLocgoAna.do)\n",
        "\n",
        "- [TourAPI3.0 사이트(관광인프라수집)](https://api.visitkorea.or.kr/search/galleryList.do)\n",
        "\n",
        "- [카카오맵 API 개발 가이드](https://developers.kakao.com/docs/latest/ko/local/dev-guide) : 관광 인프라의 \"주소\" 데이터가 부정확하여 \"위경도\" 데이터를 카카오맵 API를 사용하여 주소 데이터로 전처리"
      ]
    },
    {
      "cell_type": "code",
      "metadata": {
        "id": "OEoFaiTIxIEu"
      },
      "source": [
        "# !sudo apt-get install -y fonts-nanum # Colab 한글 폰트 사용 \n",
        "# !sudo fc-cache -fv\n",
        "# !rm ~/.cache/matplotlib -rf"
      ],
      "execution_count": 1,
      "outputs": []
    },
    {
      "cell_type": "code",
      "metadata": {
        "id": "NKyFfGcqwRJW"
      },
      "source": [
        "import pandas as pd\n",
        "import numpy as np\n",
        "import seaborn as sns"
      ],
      "execution_count": 2,
      "outputs": []
    },
    {
      "cell_type": "code",
      "metadata": {
        "colab": {
          "base_uri": "https://localhost:8080/"
        },
        "id": "jWxPZShAxEvq",
        "outputId": "f43004e7-0d85-4406-ee6a-96d0f72c9291"
      },
      "source": [
        "import matplotlib.pyplot as plt\n",
        "plt.rc('font',family='NanumBarunGothic')\n",
        "plt.rc('axes', unicode_minus = False)\n",
        "\n",
        "!matplotlib inline"
      ],
      "execution_count": 3,
      "outputs": [
        {
          "output_type": "stream",
          "text": [
            "/bin/bash: matplotlib: command not found\n"
          ],
          "name": "stdout"
        }
      ]
    },
    {
      "cell_type": "markdown",
      "metadata": {
        "id": "neAprD4izqVg"
      },
      "source": [
        "# 1 데이터 로드하기\n",
        "- [Github URL](https://github.com/Dongguk-DataScience/Data_Science)에서 받아오기"
      ]
    },
    {
      "cell_type": "code",
      "metadata": {
        "id": "n3CPr9CKwZhm"
      },
      "source": [
        "df_city = pd.read_csv(\"https://raw.githubusercontent.com/Dongguk-DataScience/Data_Science/main/dataset/city_spot.csv\")"
      ],
      "execution_count": 4,
      "outputs": []
    },
    {
      "cell_type": "code",
      "metadata": {
        "id": "pJ7vmmAPwcgM"
      },
      "source": [
        "df_visitor = pd.read_csv(\"https://raw.githubusercontent.com/Dongguk-DataScience/Data_Science/main/dataset/visitor_outside_city.csv\", encoding=\"cp949\")"
      ],
      "execution_count": 5,
      "outputs": []
    },
    {
      "cell_type": "code",
      "metadata": {
        "colab": {
          "base_uri": "https://localhost:8080/"
        },
        "id": "hngz8RiPwl04",
        "outputId": "3d9e21d6-b3a9-4716-8c72-37bab50377c7"
      },
      "source": [
        "df_city.dtypes"
      ],
      "execution_count": 6,
      "outputs": [
        {
          "output_type": "execute_result",
          "data": {
            "text/plain": [
              "관광유형     object\n",
              "명칭       object\n",
              "우편번호     object\n",
              "주소       object\n",
              "도시       object\n",
              "시군구      object\n",
              "위도      float64\n",
              "경도      float64\n",
              "dtype: object"
            ]
          },
          "metadata": {},
          "execution_count": 6
        }
      ]
    },
    {
      "cell_type": "code",
      "metadata": {
        "colab": {
          "base_uri": "https://localhost:8080/"
        },
        "id": "m8kc4E14wpJW",
        "outputId": "ac78e383-8c8d-4597-fb92-c74a2ebcc3a2"
      },
      "source": [
        "df_visitor.dtypes"
      ],
      "execution_count": 7,
      "outputs": [
        {
          "output_type": "execute_result",
          "data": {
            "text/plain": [
              "구역      object\n",
              "지역      object\n",
              "구분      object\n",
              "2018     int64\n",
              "2019     int64\n",
              "dtype: object"
            ]
          },
          "metadata": {},
          "execution_count": 7
        }
      ]
    },
    {
      "cell_type": "markdown",
      "metadata": {
        "id": "BN3M5B68z1t8"
      },
      "source": [
        "# 2 결측치 확인"
      ]
    },
    {
      "cell_type": "code",
      "metadata": {
        "id": "mU2Tt-6Cwyed"
      },
      "source": [
        "city_null_count = df_city.isnull().sum()\n",
        "visitor_null_count = df_visitor.isnull().sum()"
      ],
      "execution_count": 8,
      "outputs": []
    },
    {
      "cell_type": "code",
      "metadata": {
        "colab": {
          "base_uri": "https://localhost:8080/",
          "height": 264
        },
        "id": "mu7KU6xxxQ08",
        "outputId": "ab6facf9-7f9f-4ba8-c1f5-6c8cc9714794"
      },
      "source": [
        "plt.subplot(2,1,1)\n",
        "city_null_count.plot.barh()\n",
        "\n",
        "plt.subplot(2,1,2)\n",
        "visitor_null_count.plot.barh()\n",
        "\n",
        "plt.show()"
      ],
      "execution_count": 9,
      "outputs": [
        {
          "output_type": "display_data",
          "data": {
            "image/png": "[encoded data removed]",
            "text/plain": [
              "<Figure size 432x288 with 2 Axes>"
            ]
          },
          "metadata": {
            "needs_background": "light"
          }
        }
      ]
    },
    {
      "cell_type": "markdown",
      "metadata": {
        "id": "zxMfrh2xzLcs"
      },
      "source": [
        "# 3 결측치 제거하기\n",
        "\n",
        "- df_city의 결측치는 \"우편번호\"에만 있기에 column을 drop\n",
        "- df_visitor의 결측치는 전처리 과정 중에 제거됨\n",
        "\n",
        "- 추가적으로 \"주소\"의 값은 필요없기 때문에 제거"
      ]
    },
    {
      "cell_type": "code",
      "metadata": {
        "colab": {
          "base_uri": "https://localhost:8080/",
          "height": 202
        },
        "id": "EpJb-TZAV-Wf",
        "outputId": "e1ea7149-c750-4897-be94-577c498ae5af"
      },
      "source": [
        "df_city.head()\n",
        "# 도시 column은 \"시군구\" 행정 구역으로 정제되어있지 않음\n",
        "# -> 위경도 데이터를 카카오맵 API에 이용하여 \"시군구\" 행정 구역으로 추출함"
      ],
      "execution_count": 10,
      "outputs": [
        {
          "output_type": "execute_result",
          "data": {
            "text/html": [
              "<div>\n",
              "<style scoped>\n",
              "    .dataframe tbody tr th:only-of-type {\n",
              "        vertical-align: middle;\n",
              "    }\n",
              "\n",
              "    .dataframe tbody tr th {\n",
              "        vertical-align: top;\n",
              "    }\n",
              "\n",
              "    .dataframe thead th {\n",
              "        text-align: right;\n",
              "    }\n",
              "</style>\n",
              "<table border=\"1\" class=\"dataframe\">\n",
              "  <thead>\n",
              "    <tr style=\"text-align: right;\">\n",
              "      <th></th>\n",
              "      <th>관광유형</th>\n",
              "      <th>명칭</th>\n",
              "      <th>우편번호</th>\n",
              "      <th>주소</th>\n",
              "      <th>도시</th>\n",
              "      <th>시군구</th>\n",
              "      <th>위도</th>\n",
              "      <th>경도</th>\n",
              "    </tr>\n",
              "  </thead>\n",
              "  <tbody>\n",
              "    <tr>\n",
              "      <th>0</th>\n",
              "      <td>관광지</td>\n",
              "      <td>쉰움산</td>\n",
              "      <td>25746</td>\n",
              "      <td>강원도 동해시 삼화로 584\\n\\t\\t\\t</td>\n",
              "      <td>강원도 동해시</td>\n",
              "      <td>강원도 동해시</td>\n",
              "      <td>37.455194</td>\n",
              "      <td>129.001569</td>\n",
              "    </tr>\n",
              "    <tr>\n",
              "      <th>1</th>\n",
              "      <td>관광지</td>\n",
              "      <td>대진 등대</td>\n",
              "      <td>24703</td>\n",
              "      <td>강원도 고성군 현내면 한나루로4길 16-38\\n\\t\\t\\t</td>\n",
              "      <td>강원도 고성군</td>\n",
              "      <td>강원도 고성군</td>\n",
              "      <td>38.503780</td>\n",
              "      <td>128.428794</td>\n",
              "    </tr>\n",
              "    <tr>\n",
              "      <th>2</th>\n",
              "      <td>관광지</td>\n",
              "      <td>감자꽃 스튜디오</td>\n",
              "      <td>25370</td>\n",
              "      <td>강원도 평창군 평창읍 고길천로 105\\n\\t\\t\\t</td>\n",
              "      <td>강원도 평창군</td>\n",
              "      <td>강원도 평창군</td>\n",
              "      <td>37.368851</td>\n",
              "      <td>128.438881</td>\n",
              "    </tr>\n",
              "    <tr>\n",
              "      <th>3</th>\n",
              "      <td>관광지</td>\n",
              "      <td>하평해변(강릉)</td>\n",
              "      <td>25435</td>\n",
              "      <td>강원도 강릉시 사천면 진리해변길 155\\n\\t\\t\\t</td>\n",
              "      <td>강원도 강릉시</td>\n",
              "      <td>강원도 강릉시</td>\n",
              "      <td>37.844282</td>\n",
              "      <td>128.871922</td>\n",
              "    </tr>\n",
              "    <tr>\n",
              "      <th>4</th>\n",
              "      <td>관광지</td>\n",
              "      <td>기미만세공원</td>\n",
              "      <td>25162</td>\n",
              "      <td>강원도 홍천군 내촌면 물걸리\\n\\t\\t\\t</td>\n",
              "      <td>강원도 홍천군</td>\n",
              "      <td>강원도 홍천군</td>\n",
              "      <td>37.784525</td>\n",
              "      <td>128.146392</td>\n",
              "    </tr>\n",
              "  </tbody>\n",
              "</table>\n",
              "</div>"
            ],
            "text/plain": [
              "  관광유형        명칭   우편번호  ...      시군구         위도          경도\n",
              "0  관광지       쉰움산  25746  ...  강원도 동해시  37.455194  129.001569\n",
              "1  관광지     대진 등대  24703  ...  강원도 고성군  38.503780  128.428794\n",
              "2  관광지  감자꽃 스튜디오  25370  ...  강원도 평창군  37.368851  128.438881\n",
              "3  관광지  하평해변(강릉)  25435  ...  강원도 강릉시  37.844282  128.871922\n",
              "4  관광지    기미만세공원  25162  ...  강원도 홍천군  37.784525  128.146392\n",
              "\n",
              "[5 rows x 8 columns]"
            ]
          },
          "metadata": {},
          "execution_count": 10
        }
      ]
    },
    {
      "cell_type": "code",
      "metadata": {
        "id": "B0yr-kjPzhmY"
      },
      "source": [
        "df_city = df_city.drop([\"우편번호\",\"주소\"],axis=1)"
      ],
      "execution_count": 11,
      "outputs": []
    },
    {
      "cell_type": "code",
      "metadata": {
        "colab": {
          "base_uri": "https://localhost:8080/",
          "height": 414
        },
        "id": "6wKMISQ-0QZU",
        "outputId": "238e13a1-0954-4558-fb71-9f184ec5d9c1"
      },
      "source": [
        "df_city"
      ],
      "execution_count": 12,
      "outputs": [
        {
          "output_type": "execute_result",
          "data": {
            "text/html": [
              "<div>\n",
              "<style scoped>\n",
              "    .dataframe tbody tr th:only-of-type {\n",
              "        vertical-align: middle;\n",
              "    }\n",
              "\n",
              "    .dataframe tbody tr th {\n",
              "        vertical-align: top;\n",
              "    }\n",
              "\n",
              "    .dataframe thead th {\n",
              "        text-align: right;\n",
              "    }\n",
              "</style>\n",
              "<table border=\"1\" class=\"dataframe\">\n",
              "  <thead>\n",
              "    <tr style=\"text-align: right;\">\n",
              "      <th></th>\n",
              "      <th>관광유형</th>\n",
              "      <th>명칭</th>\n",
              "      <th>도시</th>\n",
              "      <th>시군구</th>\n",
              "      <th>위도</th>\n",
              "      <th>경도</th>\n",
              "    </tr>\n",
              "  </thead>\n",
              "  <tbody>\n",
              "    <tr>\n",
              "      <th>0</th>\n",
              "      <td>관광지</td>\n",
              "      <td>쉰움산</td>\n",
              "      <td>강원도 동해시</td>\n",
              "      <td>강원도 동해시</td>\n",
              "      <td>37.455194</td>\n",
              "      <td>129.001569</td>\n",
              "    </tr>\n",
              "    <tr>\n",
              "      <th>1</th>\n",
              "      <td>관광지</td>\n",
              "      <td>대진 등대</td>\n",
              "      <td>강원도 고성군</td>\n",
              "      <td>강원도 고성군</td>\n",
              "      <td>38.503780</td>\n",
              "      <td>128.428794</td>\n",
              "    </tr>\n",
              "    <tr>\n",
              "      <th>2</th>\n",
              "      <td>관광지</td>\n",
              "      <td>감자꽃 스튜디오</td>\n",
              "      <td>강원도 평창군</td>\n",
              "      <td>강원도 평창군</td>\n",
              "      <td>37.368851</td>\n",
              "      <td>128.438881</td>\n",
              "    </tr>\n",
              "    <tr>\n",
              "      <th>3</th>\n",
              "      <td>관광지</td>\n",
              "      <td>하평해변(강릉)</td>\n",
              "      <td>강원도 강릉시</td>\n",
              "      <td>강원도 강릉시</td>\n",
              "      <td>37.844282</td>\n",
              "      <td>128.871922</td>\n",
              "    </tr>\n",
              "    <tr>\n",
              "      <th>4</th>\n",
              "      <td>관광지</td>\n",
              "      <td>기미만세공원</td>\n",
              "      <td>강원도 홍천군</td>\n",
              "      <td>강원도 홍천군</td>\n",
              "      <td>37.784525</td>\n",
              "      <td>128.146392</td>\n",
              "    </tr>\n",
              "    <tr>\n",
              "      <th>...</th>\n",
              "      <td>...</td>\n",
              "      <td>...</td>\n",
              "      <td>...</td>\n",
              "      <td>...</td>\n",
              "      <td>...</td>\n",
              "      <td>...</td>\n",
              "    </tr>\n",
              "    <tr>\n",
              "      <th>22547</th>\n",
              "      <td>축제공연</td>\n",
              "      <td>청원생명축제</td>\n",
              "      <td>충청북도 청주시 청원구</td>\n",
              "      <td>충청북도 청주시</td>\n",
              "      <td>36.733250</td>\n",
              "      <td>127.407383</td>\n",
              "    </tr>\n",
              "    <tr>\n",
              "      <th>22548</th>\n",
              "      <td>축제공연</td>\n",
              "      <td>충주국제무예액션영화제 2020</td>\n",
              "      <td>충청북도 충주시</td>\n",
              "      <td>충청북도 충주시</td>\n",
              "      <td>36.987880</td>\n",
              "      <td>127.905592</td>\n",
              "    </tr>\n",
              "    <tr>\n",
              "      <th>22549</th>\n",
              "      <td>축제공연</td>\n",
              "      <td>박달 가요제 2020</td>\n",
              "      <td>충청북도 제천시</td>\n",
              "      <td>충청북도 제천시</td>\n",
              "      <td>37.136177</td>\n",
              "      <td>128.208483</td>\n",
              "    </tr>\n",
              "    <tr>\n",
              "      <th>22550</th>\n",
              "      <td>축제공연</td>\n",
              "      <td>괴산고추축제</td>\n",
              "      <td>충청북도 괴산군</td>\n",
              "      <td>충청북도 괴산군</td>\n",
              "      <td>36.815381</td>\n",
              "      <td>127.786697</td>\n",
              "    </tr>\n",
              "    <tr>\n",
              "      <th>22551</th>\n",
              "      <td>축제공연</td>\n",
              "      <td>제천의병제 2020</td>\n",
              "      <td>충청북도 제천시</td>\n",
              "      <td>충청북도 제천시</td>\n",
              "      <td>37.099079</td>\n",
              "      <td>128.086081</td>\n",
              "    </tr>\n",
              "  </tbody>\n",
              "</table>\n",
              "<p>22552 rows × 6 columns</p>\n",
              "</div>"
            ],
            "text/plain": [
              "       관광유형                명칭            도시       시군구         위도          경도\n",
              "0       관광지               쉰움산       강원도 동해시   강원도 동해시  37.455194  129.001569\n",
              "1       관광지             대진 등대       강원도 고성군   강원도 고성군  38.503780  128.428794\n",
              "2       관광지          감자꽃 스튜디오       강원도 평창군   강원도 평창군  37.368851  128.438881\n",
              "3       관광지          하평해변(강릉)       강원도 강릉시   강원도 강릉시  37.844282  128.871922\n",
              "4       관광지            기미만세공원       강원도 홍천군   강원도 홍천군  37.784525  128.146392\n",
              "...     ...               ...           ...       ...        ...         ...\n",
              "22547  축제공연            청원생명축제  충청북도 청주시 청원구  충청북도 청주시  36.733250  127.407383\n",
              "22548  축제공연  충주국제무예액션영화제 2020      충청북도 충주시  충청북도 충주시  36.987880  127.905592\n",
              "22549  축제공연       박달 가요제 2020      충청북도 제천시  충청북도 제천시  37.136177  128.208483\n",
              "22550  축제공연            괴산고추축제      충청북도 괴산군  충청북도 괴산군  36.815381  127.786697\n",
              "22551  축제공연        제천의병제 2020      충청북도 제천시  충청북도 제천시  37.099079  128.086081\n",
              "\n",
              "[22552 rows x 6 columns]"
            ]
          },
          "metadata": {},
          "execution_count": 12
        }
      ]
    },
    {
      "cell_type": "markdown",
      "metadata": {
        "id": "1YuQaseq0USj"
      },
      "source": [
        "# 4 방문자 수가 많은 지역, 적은 지역 검증하기"
      ]
    },
    {
      "cell_type": "code",
      "metadata": {
        "colab": {
          "base_uri": "https://localhost:8080/"
        },
        "id": "78ojdSui1ld4",
        "outputId": "0dde0b56-fedf-43a3-a0ca-fe59b912633d"
      },
      "source": [
        "df_visitor.info()"
      ],
      "execution_count": 13,
      "outputs": [
        {
          "output_type": "stream",
          "text": [
            "<class 'pandas.core.frame.DataFrame'>\n",
            "RangeIndex: 205 entries, 0 to 204\n",
            "Data columns (total 5 columns):\n",
            " #   Column  Non-Null Count  Dtype \n",
            "---  ------  --------------  ----- \n",
            " 0   구역      205 non-null    object\n",
            " 1   지역      205 non-null    object\n",
            " 2   구분      205 non-null    object\n",
            " 3   2018    205 non-null    int64 \n",
            " 4   2019    205 non-null    int64 \n",
            "dtypes: int64(2), object(3)\n",
            "memory usage: 8.1+ KB\n"
          ],
          "name": "stdout"
        }
      ]
    },
    {
      "cell_type": "code",
      "metadata": {
        "colab": {
          "base_uri": "https://localhost:8080/",
          "height": 662
        },
        "id": "r751h1ar1np9",
        "outputId": "3b1b3137-648f-45d4-8a35-26994d7b53cd"
      },
      "source": [
        "df_visitor.sort_values(by=\"2019\",ascending=False).head(20)"
      ],
      "execution_count": 14,
      "outputs": [
        {
          "output_type": "execute_result",
          "data": {
            "text/html": [
              "<div>\n",
              "<style scoped>\n",
              "    .dataframe tbody tr th:only-of-type {\n",
              "        vertical-align: middle;\n",
              "    }\n",
              "\n",
              "    .dataframe tbody tr th {\n",
              "        vertical-align: top;\n",
              "    }\n",
              "\n",
              "    .dataframe thead th {\n",
              "        text-align: right;\n",
              "    }\n",
              "</style>\n",
              "<table border=\"1\" class=\"dataframe\">\n",
              "  <thead>\n",
              "    <tr style=\"text-align: right;\">\n",
              "      <th></th>\n",
              "      <th>구역</th>\n",
              "      <th>지역</th>\n",
              "      <th>구분</th>\n",
              "      <th>2018</th>\n",
              "      <th>2019</th>\n",
              "    </tr>\n",
              "  </thead>\n",
              "  <tbody>\n",
              "    <tr>\n",
              "      <th>18</th>\n",
              "      <td>경기도</td>\n",
              "      <td>수원시</td>\n",
              "      <td>외부방문자(b+c)</td>\n",
              "      <td>189573188</td>\n",
              "      <td>197291922</td>\n",
              "    </tr>\n",
              "    <tr>\n",
              "      <th>27</th>\n",
              "      <td>경기도</td>\n",
              "      <td>고양시</td>\n",
              "      <td>외부방문자(b+c)</td>\n",
              "      <td>163441603</td>\n",
              "      <td>167244878</td>\n",
              "    </tr>\n",
              "    <tr>\n",
              "      <th>19</th>\n",
              "      <td>경기도</td>\n",
              "      <td>성남시</td>\n",
              "      <td>외부방문자(b+c)</td>\n",
              "      <td>152276012</td>\n",
              "      <td>158671190</td>\n",
              "    </tr>\n",
              "    <tr>\n",
              "      <th>36</th>\n",
              "      <td>경기도</td>\n",
              "      <td>용인시</td>\n",
              "      <td>외부방문자(b+c)</td>\n",
              "      <td>127353660</td>\n",
              "      <td>139320409</td>\n",
              "    </tr>\n",
              "    <tr>\n",
              "      <th>49</th>\n",
              "      <td>경상남도</td>\n",
              "      <td>창원시</td>\n",
              "      <td>외부방문자(b+c)</td>\n",
              "      <td>133612220</td>\n",
              "      <td>134445734</td>\n",
              "    </tr>\n",
              "    <tr>\n",
              "      <th>194</th>\n",
              "      <td>충청북도</td>\n",
              "      <td>청주시</td>\n",
              "      <td>외부방문자(b+c)</td>\n",
              "      <td>119148969</td>\n",
              "      <td>121062373</td>\n",
              "    </tr>\n",
              "    <tr>\n",
              "      <th>41</th>\n",
              "      <td>경기도</td>\n",
              "      <td>화성시</td>\n",
              "      <td>외부방문자(b+c)</td>\n",
              "      <td>83573712</td>\n",
              "      <td>90317636</td>\n",
              "    </tr>\n",
              "    <tr>\n",
              "      <th>179</th>\n",
              "      <td>충청남도</td>\n",
              "      <td>천안시</td>\n",
              "      <td>외부방문자(b+c)</td>\n",
              "      <td>83013683</td>\n",
              "      <td>84352715</td>\n",
              "    </tr>\n",
              "    <tr>\n",
              "      <th>26</th>\n",
              "      <td>경기도</td>\n",
              "      <td>안산시</td>\n",
              "      <td>외부방문자(b+c)</td>\n",
              "      <td>80441729</td>\n",
              "      <td>83779181</td>\n",
              "    </tr>\n",
              "    <tr>\n",
              "      <th>21</th>\n",
              "      <td>경기도</td>\n",
              "      <td>안양시</td>\n",
              "      <td>외부방문자(b+c)</td>\n",
              "      <td>79683702</td>\n",
              "      <td>80634292</td>\n",
              "    </tr>\n",
              "    <tr>\n",
              "      <th>22</th>\n",
              "      <td>경기도</td>\n",
              "      <td>부천시</td>\n",
              "      <td>외부방문자(b+c)</td>\n",
              "      <td>76028095</td>\n",
              "      <td>79373138</td>\n",
              "    </tr>\n",
              "    <tr>\n",
              "      <th>163</th>\n",
              "      <td>전라북도</td>\n",
              "      <td>전주시</td>\n",
              "      <td>외부방문자(b+c)</td>\n",
              "      <td>74809007</td>\n",
              "      <td>73820129</td>\n",
              "    </tr>\n",
              "    <tr>\n",
              "      <th>112</th>\n",
              "      <td>부산광역시</td>\n",
              "      <td>부산진구</td>\n",
              "      <td>외부방문자(b+c)</td>\n",
              "      <td>71963217</td>\n",
              "      <td>73688721</td>\n",
              "    </tr>\n",
              "    <tr>\n",
              "      <th>130</th>\n",
              "      <td>인천광역시</td>\n",
              "      <td>중구</td>\n",
              "      <td>외부방문자(b+c)</td>\n",
              "      <td>60427679</td>\n",
              "      <td>73522849</td>\n",
              "    </tr>\n",
              "    <tr>\n",
              "      <th>95</th>\n",
              "      <td>대구광역시</td>\n",
              "      <td>중구</td>\n",
              "      <td>외부방문자(b+c)</td>\n",
              "      <td>72430646</td>\n",
              "      <td>72202901</td>\n",
              "    </tr>\n",
              "    <tr>\n",
              "      <th>116</th>\n",
              "      <td>부산광역시</td>\n",
              "      <td>해운대구</td>\n",
              "      <td>외부방문자(b+c)</td>\n",
              "      <td>65359312</td>\n",
              "      <td>68577349</td>\n",
              "    </tr>\n",
              "    <tr>\n",
              "      <th>30</th>\n",
              "      <td>경기도</td>\n",
              "      <td>남양주시</td>\n",
              "      <td>외부방문자(b+c)</td>\n",
              "      <td>59823334</td>\n",
              "      <td>66271463</td>\n",
              "    </tr>\n",
              "    <tr>\n",
              "      <th>105</th>\n",
              "      <td>대전광역시</td>\n",
              "      <td>서구</td>\n",
              "      <td>외부방문자(b+c)</td>\n",
              "      <td>58898063</td>\n",
              "      <td>60307777</td>\n",
              "    </tr>\n",
              "    <tr>\n",
              "      <th>101</th>\n",
              "      <td>대구광역시</td>\n",
              "      <td>달서구</td>\n",
              "      <td>외부방문자(b+c)</td>\n",
              "      <td>56376463</td>\n",
              "      <td>57722119</td>\n",
              "    </tr>\n",
              "    <tr>\n",
              "      <th>96</th>\n",
              "      <td>대구광역시</td>\n",
              "      <td>동구</td>\n",
              "      <td>외부방문자(b+c)</td>\n",
              "      <td>52863842</td>\n",
              "      <td>56700199</td>\n",
              "    </tr>\n",
              "  </tbody>\n",
              "</table>\n",
              "</div>"
            ],
            "text/plain": [
              "        구역    지역          구분       2018       2019\n",
              "18     경기도   수원시  외부방문자(b+c)  189573188  197291922\n",
              "27     경기도   고양시  외부방문자(b+c)  163441603  167244878\n",
              "19     경기도   성남시  외부방문자(b+c)  152276012  158671190\n",
              "36     경기도   용인시  외부방문자(b+c)  127353660  139320409\n",
              "49    경상남도   창원시  외부방문자(b+c)  133612220  134445734\n",
              "194   충청북도   청주시  외부방문자(b+c)  119148969  121062373\n",
              "41     경기도   화성시  외부방문자(b+c)   83573712   90317636\n",
              "179   충청남도   천안시  외부방문자(b+c)   83013683   84352715\n",
              "26     경기도   안산시  외부방문자(b+c)   80441729   83779181\n",
              "21     경기도   안양시  외부방문자(b+c)   79683702   80634292\n",
              "22     경기도   부천시  외부방문자(b+c)   76028095   79373138\n",
              "163   전라북도   전주시  외부방문자(b+c)   74809007   73820129\n",
              "112  부산광역시  부산진구  외부방문자(b+c)   71963217   73688721\n",
              "130  인천광역시    중구  외부방문자(b+c)   60427679   73522849\n",
              "95   대구광역시    중구  외부방문자(b+c)   72430646   72202901\n",
              "116  부산광역시  해운대구  외부방문자(b+c)   65359312   68577349\n",
              "30     경기도  남양주시  외부방문자(b+c)   59823334   66271463\n",
              "105  대전광역시    서구  외부방문자(b+c)   58898063   60307777\n",
              "101  대구광역시   달서구  외부방문자(b+c)   56376463   57722119\n",
              "96   대구광역시    동구  외부방문자(b+c)   52863842   56700199"
            ]
          },
          "metadata": {},
          "execution_count": 14
        }
      ]
    },
    {
      "cell_type": "code",
      "metadata": {
        "colab": {
          "base_uri": "https://localhost:8080/",
          "height": 662
        },
        "id": "ivyQf1KTa_bS",
        "outputId": "14867ba2-97ac-40c9-fbdc-6fb1ade7fbd3"
      },
      "source": [
        "df_visitor.sort_values(by=\"2019\",ascending=True).head(20)"
      ],
      "execution_count": 15,
      "outputs": [
        {
          "output_type": "execute_result",
          "data": {
            "text/html": [
              "<div>\n",
              "<style scoped>\n",
              "    .dataframe tbody tr th:only-of-type {\n",
              "        vertical-align: middle;\n",
              "    }\n",
              "\n",
              "    .dataframe tbody tr th {\n",
              "        vertical-align: top;\n",
              "    }\n",
              "\n",
              "    .dataframe thead th {\n",
              "        text-align: right;\n",
              "    }\n",
              "</style>\n",
              "<table border=\"1\" class=\"dataframe\">\n",
              "  <thead>\n",
              "    <tr style=\"text-align: right;\">\n",
              "      <th></th>\n",
              "      <th>구역</th>\n",
              "      <th>지역</th>\n",
              "      <th>구분</th>\n",
              "      <th>2018</th>\n",
              "      <th>2019</th>\n",
              "    </tr>\n",
              "  </thead>\n",
              "  <tbody>\n",
              "    <tr>\n",
              "      <th>132</th>\n",
              "      <td>인천광역시</td>\n",
              "      <td>남구</td>\n",
              "      <td>외부방문자(b+c)</td>\n",
              "      <td>35552310</td>\n",
              "      <td>0</td>\n",
              "    </tr>\n",
              "    <tr>\n",
              "      <th>80</th>\n",
              "      <td>경상북도</td>\n",
              "      <td>영양군</td>\n",
              "      <td>외부방문자(b+c)</td>\n",
              "      <td>1589333</td>\n",
              "      <td>1658312</td>\n",
              "    </tr>\n",
              "    <tr>\n",
              "      <th>89</th>\n",
              "      <td>경상북도</td>\n",
              "      <td>울릉군</td>\n",
              "      <td>외부방문자(b+c)</td>\n",
              "      <td>1554421</td>\n",
              "      <td>1751214</td>\n",
              "    </tr>\n",
              "    <tr>\n",
              "      <th>172</th>\n",
              "      <td>전라북도</td>\n",
              "      <td>장수군</td>\n",
              "      <td>외부방문자(b+c)</td>\n",
              "      <td>2744075</td>\n",
              "      <td>2815193</td>\n",
              "    </tr>\n",
              "    <tr>\n",
              "      <th>14</th>\n",
              "      <td>강원도</td>\n",
              "      <td>양구군</td>\n",
              "      <td>외부방문자(b+c)</td>\n",
              "      <td>2749003</td>\n",
              "      <td>3349779</td>\n",
              "    </tr>\n",
              "    <tr>\n",
              "      <th>57</th>\n",
              "      <td>경상남도</td>\n",
              "      <td>의령군</td>\n",
              "      <td>외부방문자(b+c)</td>\n",
              "      <td>3737229</td>\n",
              "      <td>3890888</td>\n",
              "    </tr>\n",
              "    <tr>\n",
              "      <th>87</th>\n",
              "      <td>경상북도</td>\n",
              "      <td>봉화군</td>\n",
              "      <td>외부방문자(b+c)</td>\n",
              "      <td>3957501</td>\n",
              "      <td>4149336</td>\n",
              "    </tr>\n",
              "    <tr>\n",
              "      <th>161</th>\n",
              "      <td>전라남도</td>\n",
              "      <td>진도군</td>\n",
              "      <td>외부방문자(b+c)</td>\n",
              "      <td>3480447</td>\n",
              "      <td>4186618</td>\n",
              "    </tr>\n",
              "    <tr>\n",
              "      <th>174</th>\n",
              "      <td>전라북도</td>\n",
              "      <td>순창군</td>\n",
              "      <td>외부방문자(b+c)</td>\n",
              "      <td>3952645</td>\n",
              "      <td>4204101</td>\n",
              "    </tr>\n",
              "    <tr>\n",
              "      <th>170</th>\n",
              "      <td>전라북도</td>\n",
              "      <td>진안군</td>\n",
              "      <td>외부방문자(b+c)</td>\n",
              "      <td>4130004</td>\n",
              "      <td>4313931</td>\n",
              "    </tr>\n",
              "    <tr>\n",
              "      <th>190</th>\n",
              "      <td>충청남도</td>\n",
              "      <td>청양군</td>\n",
              "      <td>외부방문자(b+c)</td>\n",
              "      <td>4495412</td>\n",
              "      <td>4626416</td>\n",
              "    </tr>\n",
              "    <tr>\n",
              "      <th>152</th>\n",
              "      <td>전라남도</td>\n",
              "      <td>장흥군</td>\n",
              "      <td>외부방문자(b+c)</td>\n",
              "      <td>4625687</td>\n",
              "      <td>4723841</td>\n",
              "    </tr>\n",
              "    <tr>\n",
              "      <th>185</th>\n",
              "      <td>충청남도</td>\n",
              "      <td>계룡시</td>\n",
              "      <td>외부방문자(b+c)</td>\n",
              "      <td>4377922</td>\n",
              "      <td>4765335</td>\n",
              "    </tr>\n",
              "    <tr>\n",
              "      <th>79</th>\n",
              "      <td>경상북도</td>\n",
              "      <td>청송군</td>\n",
              "      <td>외부방문자(b+c)</td>\n",
              "      <td>5432733</td>\n",
              "      <td>4857143</td>\n",
              "    </tr>\n",
              "    <tr>\n",
              "      <th>13</th>\n",
              "      <td>강원도</td>\n",
              "      <td>화천군</td>\n",
              "      <td>외부방문자(b+c)</td>\n",
              "      <td>3799766</td>\n",
              "      <td>4887552</td>\n",
              "    </tr>\n",
              "    <tr>\n",
              "      <th>147</th>\n",
              "      <td>전라남도</td>\n",
              "      <td>곡성군</td>\n",
              "      <td>외부방문자(b+c)</td>\n",
              "      <td>4900709</td>\n",
              "      <td>5181663</td>\n",
              "    </tr>\n",
              "    <tr>\n",
              "      <th>64</th>\n",
              "      <td>경상남도</td>\n",
              "      <td>함양군</td>\n",
              "      <td>외부방문자(b+c)</td>\n",
              "      <td>5089249</td>\n",
              "      <td>5222703</td>\n",
              "    </tr>\n",
              "    <tr>\n",
              "      <th>83</th>\n",
              "      <td>경상북도</td>\n",
              "      <td>고령군</td>\n",
              "      <td>외부방문자(b+c)</td>\n",
              "      <td>5003940</td>\n",
              "      <td>5255130</td>\n",
              "    </tr>\n",
              "    <tr>\n",
              "      <th>4</th>\n",
              "      <td>강원도</td>\n",
              "      <td>태백시</td>\n",
              "      <td>외부방문자(b+c)</td>\n",
              "      <td>5058337</td>\n",
              "      <td>5283704</td>\n",
              "    </tr>\n",
              "    <tr>\n",
              "      <th>153</th>\n",
              "      <td>전라남도</td>\n",
              "      <td>강진군</td>\n",
              "      <td>외부방문자(b+c)</td>\n",
              "      <td>5362168</td>\n",
              "      <td>5405528</td>\n",
              "    </tr>\n",
              "  </tbody>\n",
              "</table>\n",
              "</div>"
            ],
            "text/plain": [
              "        구역   지역          구분      2018     2019\n",
              "132  인천광역시   남구  외부방문자(b+c)  35552310        0\n",
              "80    경상북도  영양군  외부방문자(b+c)   1589333  1658312\n",
              "89    경상북도  울릉군  외부방문자(b+c)   1554421  1751214\n",
              "172   전라북도  장수군  외부방문자(b+c)   2744075  2815193\n",
              "14     강원도  양구군  외부방문자(b+c)   2749003  3349779\n",
              "57    경상남도  의령군  외부방문자(b+c)   3737229  3890888\n",
              "87    경상북도  봉화군  외부방문자(b+c)   3957501  4149336\n",
              "161   전라남도  진도군  외부방문자(b+c)   3480447  4186618\n",
              "174   전라북도  순창군  외부방문자(b+c)   3952645  4204101\n",
              "170   전라북도  진안군  외부방문자(b+c)   4130004  4313931\n",
              "190   충청남도  청양군  외부방문자(b+c)   4495412  4626416\n",
              "152   전라남도  장흥군  외부방문자(b+c)   4625687  4723841\n",
              "185   충청남도  계룡시  외부방문자(b+c)   4377922  4765335\n",
              "79    경상북도  청송군  외부방문자(b+c)   5432733  4857143\n",
              "13     강원도  화천군  외부방문자(b+c)   3799766  4887552\n",
              "147   전라남도  곡성군  외부방문자(b+c)   4900709  5181663\n",
              "64    경상남도  함양군  외부방문자(b+c)   5089249  5222703\n",
              "83    경상북도  고령군  외부방문자(b+c)   5003940  5255130\n",
              "4      강원도  태백시  외부방문자(b+c)   5058337  5283704\n",
              "153   전라남도  강진군  외부방문자(b+c)   5362168  5405528"
            ]
          },
          "metadata": {},
          "execution_count": 15
        }
      ]
    },
    {
      "cell_type": "markdown",
      "metadata": {
        "id": "3Vjhckq-1v9F"
      },
      "source": [
        "# 5 TOP 15 지역의 관광 인프라 분석"
      ]
    },
    {
      "cell_type": "code",
      "metadata": {
        "id": "RUOHtAvj6ByB"
      },
      "source": [
        "def extract_infra(text):\n",
        "  name = df_city[df_city[\"시군구\"].str.contains(text)][\"시군구\"].iloc[0]\n",
        "  special_city_df = df_city[df_city[\"시군구\"] == name]\n",
        "  special_infra = special_city_df[\"관광유형\"].value_counts()\n",
        "  return special_city_df, special_infra\n"
      ],
      "execution_count": 16,
      "outputs": []
    },
    {
      "cell_type": "markdown",
      "metadata": {
        "id": "Iyt9qwlRipSY"
      },
      "source": [
        "## 5.1 Top 15 지역 인프라 추출"
      ]
    },
    {
      "cell_type": "code",
      "metadata": {
        "id": "apFK-1502xhc"
      },
      "source": [
        "df_suwon, suwon_infra =extract_infra(\"수원\")"
      ],
      "execution_count": 17,
      "outputs": []
    },
    {
      "cell_type": "code",
      "metadata": {
        "id": "vph-fXV95mci"
      },
      "source": [
        "df_goyang, goyang_infra =extract_infra(\"고양\")"
      ],
      "execution_count": 18,
      "outputs": []
    },
    {
      "cell_type": "code",
      "metadata": {
        "id": "yV641jZD7e3g"
      },
      "source": [
        "df_sungnam, sungnam_infra =extract_infra(\"성남\")"
      ],
      "execution_count": 19,
      "outputs": []
    },
    {
      "cell_type": "code",
      "metadata": {
        "id": "FJtAIRDf7gug"
      },
      "source": [
        "df_yongin, yongin_infra =extract_infra(\"용인\")"
      ],
      "execution_count": 20,
      "outputs": []
    },
    {
      "cell_type": "code",
      "metadata": {
        "id": "B5MqNilj7fsE"
      },
      "source": [
        "df_changwon, changwon_infra =extract_infra(\"창원\")"
      ],
      "execution_count": 21,
      "outputs": []
    },
    {
      "cell_type": "code",
      "metadata": {
        "id": "Fq2WCFp07htT"
      },
      "source": [
        "df_chungju, chungju_infra =extract_infra(\"청주\")"
      ],
      "execution_count": 22,
      "outputs": []
    },
    {
      "cell_type": "code",
      "metadata": {
        "id": "stjZTYId7iIo"
      },
      "source": [
        "df_hwasung, hwasung_infra =extract_infra(\"화성\")"
      ],
      "execution_count": 23,
      "outputs": []
    },
    {
      "cell_type": "code",
      "metadata": {
        "id": "Y1dmTdug7ihF"
      },
      "source": [
        "df_chunan, chunan_infra =extract_infra(\"천안\")"
      ],
      "execution_count": 24,
      "outputs": []
    },
    {
      "cell_type": "code",
      "metadata": {
        "id": "7Qa_PEG47i3t"
      },
      "source": [
        "df_ansan, ansan_infra =extract_infra(\"안산\")"
      ],
      "execution_count": 25,
      "outputs": []
    },
    {
      "cell_type": "code",
      "metadata": {
        "id": "lrr8he7X7jup"
      },
      "source": [
        "df_anyang, anyang_infra =extract_infra(\"안양\")"
      ],
      "execution_count": 26,
      "outputs": []
    },
    {
      "cell_type": "code",
      "metadata": {
        "id": "kAtXrZ137kKB"
      },
      "source": [
        "df_bucheon, bucheon_infra =extract_infra(\"부천\")"
      ],
      "execution_count": 27,
      "outputs": []
    },
    {
      "cell_type": "code",
      "metadata": {
        "id": "2IP802Cl7kkA"
      },
      "source": [
        "df_junju, junju_infra =extract_infra(\"전주\")"
      ],
      "execution_count": 28,
      "outputs": []
    },
    {
      "cell_type": "code",
      "metadata": {
        "id": "yQXyrHMf7k9F"
      },
      "source": [
        "df_busan, busan_infra =extract_infra(\"부산\")"
      ],
      "execution_count": 29,
      "outputs": []
    },
    {
      "cell_type": "code",
      "metadata": {
        "id": "ppFwulCu7lZl"
      },
      "source": [
        "df_incheon, incheon_infra =extract_infra(\"인천\")"
      ],
      "execution_count": 30,
      "outputs": []
    },
    {
      "cell_type": "code",
      "metadata": {
        "id": "h2r7iBRn7ly2"
      },
      "source": [
        "df_daegu, daegu_infra =extract_infra(\"대구\")"
      ],
      "execution_count": 31,
      "outputs": []
    },
    {
      "cell_type": "markdown",
      "metadata": {
        "id": "Yhi9Ba9g-exy"
      },
      "source": [
        "## 5.2 종합 분석"
      ]
    },
    {
      "cell_type": "code",
      "metadata": {
        "colab": {
          "base_uri": "https://localhost:8080/",
          "height": 926
        },
        "id": "p-m6GpYu9Oc9",
        "outputId": "340bbfd1-a372-4ca9-8a09-2786b3886d22"
      },
      "source": [
        "plt.figure(figsize=(25,15))\n",
        "\n",
        "plt.subplot(3,5,1)\n",
        "plt.title(\"경기도 수원시\")\n",
        "sns.countplot(data=df_suwon,x=\"관광유형\")\n",
        "plt.xticks(rotation='45')\n",
        "\n",
        "plt.subplot(3,5,2)\n",
        "plt.title(\"경기도 고양시\")\n",
        "sns.countplot(data=df_goyang,x=\"관광유형\")\n",
        "plt.xticks(rotation='45')\n",
        "\n",
        "plt.subplot(3,5,3)\n",
        "plt.title(\"경기도 성남시\")\n",
        "sns.countplot(data=df_sungnam,x=\"관광유형\")\n",
        "plt.xticks(rotation='45')\n",
        "\n",
        "plt.subplot(3,5,4)\n",
        "plt.title(\"경기도 용인시\")\n",
        "sns.countplot(data=df_yongin,x=\"관광유형\")\n",
        "plt.xticks(rotation='45')\n",
        "\n",
        "plt.subplot(3,5,5)\n",
        "plt.title(\"경상남도 창원시\")\n",
        "sns.countplot(data=df_changwon,x=\"관광유형\")\n",
        "plt.xticks(rotation='45')\n",
        "\n",
        "plt.subplot(3,5,6)\n",
        "plt.title(\"충청북도 청주시\")\n",
        "sns.countplot(data=df_chungju,x=\"관광유형\")\n",
        "plt.xticks(rotation='45')\n",
        "\n",
        "plt.subplot(3,5,7)\n",
        "plt.title(\"경기도 화성시\")\n",
        "sns.countplot(data=df_hwasung,x=\"관광유형\")\n",
        "plt.xticks(rotation='45')\n",
        "\n",
        "plt.subplot(3,5,8)\n",
        "plt.title(\"충청남도 천안시\")\n",
        "sns.countplot(data=df_chunan,x=\"관광유형\")\n",
        "plt.xticks(rotation='45')\n",
        "\n",
        "plt.subplot(3,5,9)\n",
        "plt.title(\"경기도 안산시\")\n",
        "sns.countplot(data=df_ansan,x=\"관광유형\")\n",
        "plt.xticks(rotation='45')\n",
        "\n",
        "plt.subplot(3,5,10)\n",
        "plt.title(\"경기도 안양시\")\n",
        "sns.countplot(data=df_anyang,x=\"관광유형\")\n",
        "plt.xticks(rotation='45')\n",
        "\n",
        "plt.subplot(3,5,11)\n",
        "plt.title(\"경기도 부천시\")\n",
        "sns.countplot(data=df_bucheon,x=\"관광유형\")\n",
        "plt.xticks(rotation='45')\n",
        "\n",
        "plt.subplot(3,5,12)\n",
        "plt.title(\"전라북도 전주시\")\n",
        "sns.countplot(data=df_junju,x=\"관광유형\")\n",
        "plt.xticks(rotation='45')\n",
        "\n",
        "plt.subplot(3,5,13)\n",
        "plt.title(\"부산광역시 부산진구\")\n",
        "sns.countplot(data=df_busan,x=\"관광유형\")\n",
        "plt.xticks(rotation='45')\n",
        "\n",
        "plt.subplot(3,5,14)\n",
        "plt.title(\"인천광역시 중구\")\n",
        "sns.countplot(data=df_incheon,x=\"관광유형\")\n",
        "plt.xticks(rotation='45')\n",
        "\n",
        "plt.subplot(3,5,15)\n",
        "plt.title(\"대구광역시 중구\")\n",
        "sns.countplot(data=df_daegu,x=\"관광유형\")\n",
        "plt.xticks(rotation='45')\n",
        "\n",
        "\n",
        "plt.show()"
      ],
      "execution_count": 32,
      "outputs": [
        {
          "output_type": "display_data",
          "data": {
            "image/png": "[encoded data removed]",
            "text/plain": [
              "<Figure size 1800x1080 with 15 Axes>"
            ]
          },
          "metadata": {
            "needs_background": "light"
          }
        }
      ]
    },
    {
      "cell_type": "markdown",
      "metadata": {
        "id": "UsOajmlMbajU"
      },
      "source": [
        "# 6 TAIL 15 지역의 관광 인프라 분석"
      ]
    },
    {
      "cell_type": "markdown",
      "metadata": {
        "id": "60cuD5cLixUh"
      },
      "source": [
        "## 6.1 Tail 15 지역 인프라 추출"
      ]
    },
    {
      "cell_type": "code",
      "metadata": {
        "id": "IlInwV4ocqKE"
      },
      "source": [
        "df_yeongyang, yeongyang_infra =extract_infra(\"영양\")"
      ],
      "execution_count": 33,
      "outputs": []
    },
    {
      "cell_type": "code",
      "metadata": {
        "id": "gZihsS8tbgsN"
      },
      "source": [
        "df_ulleung, ulleung_infra =extract_infra(\"울릉\")"
      ],
      "execution_count": 34,
      "outputs": []
    },
    {
      "cell_type": "code",
      "metadata": {
        "id": "kb8hR8PObg1B"
      },
      "source": [
        "df_jangsu, jansu_infra =extract_infra(\"장수\")"
      ],
      "execution_count": 35,
      "outputs": []
    },
    {
      "cell_type": "code",
      "metadata": {
        "id": "YPyrH_q7bg98"
      },
      "source": [
        "df_yanggu, yanggu_infra =extract_infra(\"양구\")"
      ],
      "execution_count": 36,
      "outputs": []
    },
    {
      "cell_type": "code",
      "metadata": {
        "id": "37iUa_xGbhPg"
      },
      "source": [
        "df_uilyeong, uilyeong_infra =extract_infra(\"의령\")"
      ],
      "execution_count": 37,
      "outputs": []
    },
    {
      "cell_type": "code",
      "metadata": {
        "id": "wTKPwV33dOy0"
      },
      "source": [
        "df_bonghwa, bonghwa_infra =extract_infra(\"봉화\")"
      ],
      "execution_count": 38,
      "outputs": []
    },
    {
      "cell_type": "code",
      "metadata": {
        "id": "A5dYiEozdPFo"
      },
      "source": [
        "df_jindo, jindo_infra =extract_infra(\"진도\")"
      ],
      "execution_count": 39,
      "outputs": []
    },
    {
      "cell_type": "code",
      "metadata": {
        "id": "czSe18XmdPXT"
      },
      "source": [
        "df_sunchang, sunchang_infra =extract_infra(\"순창\")"
      ],
      "execution_count": 40,
      "outputs": []
    },
    {
      "cell_type": "code",
      "metadata": {
        "id": "bnrX_khydPpV"
      },
      "source": [
        "df_jinan, jinan_infra =extract_infra(\"진안\")"
      ],
      "execution_count": 41,
      "outputs": []
    },
    {
      "cell_type": "code",
      "metadata": {
        "id": "sOfVKLQVdbKC"
      },
      "source": [
        "df_chungyang, chungyang_infra =extract_infra(\"청양\")"
      ],
      "execution_count": 42,
      "outputs": []
    },
    {
      "cell_type": "code",
      "metadata": {
        "id": "3kUxKFmydban"
      },
      "source": [
        "df_jangheung, jangheung_infra =extract_infra(\"장흥\")"
      ],
      "execution_count": 43,
      "outputs": []
    },
    {
      "cell_type": "code",
      "metadata": {
        "id": "s2pdDFqKdbrA"
      },
      "source": [
        "df_gyeryong, gyeryong_infra =extract_infra(\"계룡\")"
      ],
      "execution_count": 44,
      "outputs": []
    },
    {
      "cell_type": "code",
      "metadata": {
        "id": "e9SGubQqdobp"
      },
      "source": [
        "df_chungsong, chungsong_infra =extract_infra(\"청송\")"
      ],
      "execution_count": 45,
      "outputs": []
    },
    {
      "cell_type": "code",
      "metadata": {
        "id": "ZKQXjNZOdrS8"
      },
      "source": [
        "df_hwacheon, hwacheon_infra =extract_infra(\"화천\")"
      ],
      "execution_count": 46,
      "outputs": []
    },
    {
      "cell_type": "code",
      "metadata": {
        "id": "xwfdRi1NdrmF"
      },
      "source": [
        "df_gogsung, gogsung_infra =extract_infra(\"곡성\")"
      ],
      "execution_count": 47,
      "outputs": []
    },
    {
      "cell_type": "markdown",
      "metadata": {
        "id": "GJvsr_eKgEis"
      },
      "source": [
        "## 6.2 종합 분석"
      ]
    },
    {
      "cell_type": "code",
      "metadata": {
        "colab": {
          "base_uri": "https://localhost:8080/",
          "height": 926
        },
        "id": "_V2lnzmDgHpO",
        "outputId": "7bac84d5-5b73-460c-d06b-62644a789eb4"
      },
      "source": [
        "plt.figure(figsize=(25,15))\n",
        "\n",
        "plt.subplot(3,5,1)\n",
        "plt.title(\"경상북도 영양군\")\n",
        "sns.countplot(data=df_yeongyang,x=\"관광유형\")\n",
        "plt.xticks(rotation='45')\n",
        "\n",
        "plt.subplot(3,5,2)\n",
        "plt.title(\"경상북도 울릉군\")\n",
        "sns.countplot(data=df_ulleung,x=\"관광유형\")\n",
        "plt.xticks(rotation='45')\n",
        "\n",
        "plt.subplot(3,5,3)\n",
        "plt.title(\"전라북도 장수군\")\n",
        "sns.countplot(data=df_jangsu,x=\"관광유형\")\n",
        "plt.xticks(rotation='45')\n",
        "\n",
        "plt.subplot(3,5,4)\n",
        "plt.title(\"강원도 양구군\")\n",
        "sns.countplot(data=df_yanggu,x=\"관광유형\")\n",
        "plt.xticks(rotation='45')\n",
        "\n",
        "plt.subplot(3,5,5)\n",
        "plt.title(\"경상남도 의령군\")\n",
        "sns.countplot(data=df_uilyeong,x=\"관광유형\")\n",
        "plt.xticks(rotation='45')\n",
        "\n",
        "plt.subplot(3,5,6)\n",
        "plt.title(\"경상북도 봉화군\")\n",
        "sns.countplot(data=df_bonghwa,x=\"관광유형\")\n",
        "plt.xticks(rotation='45')\n",
        "\n",
        "plt.subplot(3,5,7)\n",
        "plt.title(\"전라남도 진도군\")\n",
        "sns.countplot(data=df_jindo,x=\"관광유형\")\n",
        "plt.xticks(rotation='45')\n",
        "\n",
        "plt.subplot(3,5,8)\n",
        "plt.title(\"전라북도 순창군\")\n",
        "sns.countplot(data=df_sunchang,x=\"관광유형\")\n",
        "plt.xticks(rotation='45')\n",
        "\n",
        "plt.subplot(3,5,9)\n",
        "plt.title(\"전라북도 진안군\")\n",
        "sns.countplot(data=df_jinan,x=\"관광유형\")\n",
        "plt.xticks(rotation='45')\n",
        "\n",
        "plt.subplot(3,5,10)\n",
        "plt.title(\"충청남도 청양군\")\n",
        "sns.countplot(data=df_chungyang,x=\"관광유형\")\n",
        "plt.xticks(rotation='45')\n",
        "\n",
        "plt.subplot(3,5,11)\n",
        "plt.title(\"전라남도 장흥군\")\n",
        "sns.countplot(data=df_jangheung,x=\"관광유형\")\n",
        "plt.xticks(rotation='45')\n",
        "\n",
        "plt.subplot(3,5,12)\n",
        "plt.title(\"충청남도 계룡시\")\n",
        "sns.countplot(data=df_gyeryong,x=\"관광유형\")\n",
        "plt.xticks(rotation='45')\n",
        "\n",
        "plt.subplot(3,5,13)\n",
        "plt.title(\"경상북도 청송군\")\n",
        "sns.countplot(data=df_chungsong,x=\"관광유형\")\n",
        "plt.xticks(rotation='45')\n",
        "\n",
        "plt.subplot(3,5,14)\n",
        "plt.title(\"강원도 화천군\")\n",
        "sns.countplot(data=df_hwacheon,x=\"관광유형\")\n",
        "plt.xticks(rotation='45')\n",
        "\n",
        "plt.subplot(3,5,15)\n",
        "plt.title(\"전라남도 곡성군\")\n",
        "sns.countplot(data=df_gogsung,x=\"관광유형\")\n",
        "plt.xticks(rotation='45')\n",
        "\n",
        "\n",
        "plt.show()"
      ],
      "execution_count": 48,
      "outputs": [
        {
          "output_type": "display_data",
          "data": {
            "image/png": "[encoded data removed]",
            "text/plain": [
              "<Figure size 1800x1080 with 15 Axes>"
            ]
          },
          "metadata": {
            "needs_background": "light"
          }
        }
      ]
    },
    {
      "cell_type": "markdown",
      "metadata": {
        "id": "nc0yAlfT-8QA"
      },
      "source": [
        "# 7 Sample 검증하기\n",
        "- 전체적으로 관광지가 많게 나오기에 몇개의 샘플을 뽑아 검증"
      ]
    },
    {
      "cell_type": "code",
      "metadata": {
        "id": "dt-HrCjcBLQm"
      },
      "source": [
        "def extract_sample():\n",
        "  name = df_city.sample()[\"시군구\"]\n",
        "  name=name.to_list()\n",
        "  name = \" \".join(name)\n",
        "  special_city_df = df_city[df_city[\"시군구\"] == name]\n",
        "  special_infra = special_city_df[\"관광유형\"].value_counts()\n",
        "  return special_city_df, special_infra"
      ],
      "execution_count": 49,
      "outputs": []
    },
    {
      "cell_type": "code",
      "metadata": {
        "id": "MZfOUlVvBBFP"
      },
      "source": [
        "sample_df, sample_infra = extract_sample()"
      ],
      "execution_count": 50,
      "outputs": []
    },
    {
      "cell_type": "code",
      "metadata": {
        "colab": {
          "base_uri": "https://localhost:8080/",
          "height": 414
        },
        "id": "rApG2V2pCTns",
        "outputId": "fbcca56d-2f16-48f0-e72f-fa8a1b10ed2a"
      },
      "source": [
        "sample_df"
      ],
      "execution_count": 51,
      "outputs": [
        {
          "output_type": "execute_result",
          "data": {
            "text/html": [
              "<div>\n",
              "<style scoped>\n",
              "    .dataframe tbody tr th:only-of-type {\n",
              "        vertical-align: middle;\n",
              "    }\n",
              "\n",
              "    .dataframe tbody tr th {\n",
              "        vertical-align: top;\n",
              "    }\n",
              "\n",
              "    .dataframe thead th {\n",
              "        text-align: right;\n",
              "    }\n",
              "</style>\n",
              "<table border=\"1\" class=\"dataframe\">\n",
              "  <thead>\n",
              "    <tr style=\"text-align: right;\">\n",
              "      <th></th>\n",
              "      <th>관광유형</th>\n",
              "      <th>명칭</th>\n",
              "      <th>도시</th>\n",
              "      <th>시군구</th>\n",
              "      <th>위도</th>\n",
              "      <th>경도</th>\n",
              "    </tr>\n",
              "  </thead>\n",
              "  <tbody>\n",
              "    <tr>\n",
              "      <th>8775</th>\n",
              "      <td>관광지</td>\n",
              "      <td>덕수공원</td>\n",
              "      <td>경상북도 포항시 북구</td>\n",
              "      <td>경상북도 포항시</td>\n",
              "      <td>36.043962</td>\n",
              "      <td>129.360446</td>\n",
              "    </tr>\n",
              "    <tr>\n",
              "      <th>8786</th>\n",
              "      <td>관광지</td>\n",
              "      <td>호미곶 해맞이광장</td>\n",
              "      <td>경상북도 포항시 남구</td>\n",
              "      <td>경상북도 포항시</td>\n",
              "      <td>36.077840</td>\n",
              "      <td>129.568260</td>\n",
              "    </tr>\n",
              "    <tr>\n",
              "      <th>8795</th>\n",
              "      <td>관광지</td>\n",
              "      <td>보경사</td>\n",
              "      <td>경상북도 포항시 북구</td>\n",
              "      <td>경상북도 포항시</td>\n",
              "      <td>36.252121</td>\n",
              "      <td>129.318021</td>\n",
              "    </tr>\n",
              "    <tr>\n",
              "      <th>8819</th>\n",
              "      <td>관광지</td>\n",
              "      <td>하옥계곡</td>\n",
              "      <td>경상북도 포항시 북구</td>\n",
              "      <td>경상북도 포항시</td>\n",
              "      <td>36.312777</td>\n",
              "      <td>129.252548</td>\n",
              "    </tr>\n",
              "    <tr>\n",
              "      <th>8822</th>\n",
              "      <td>관광지</td>\n",
              "      <td>영일만온천</td>\n",
              "      <td>경상북도 포항시 남구</td>\n",
              "      <td>경상북도 포항시</td>\n",
              "      <td>35.952919</td>\n",
              "      <td>129.361457</td>\n",
              "    </tr>\n",
              "    <tr>\n",
              "      <th>...</th>\n",
              "      <td>...</td>\n",
              "      <td>...</td>\n",
              "      <td>...</td>\n",
              "      <td>...</td>\n",
              "      <td>...</td>\n",
              "      <td>...</td>\n",
              "    </tr>\n",
              "    <tr>\n",
              "      <th>11078</th>\n",
              "      <td>음식점</td>\n",
              "      <td>고향숯불갈비</td>\n",
              "      <td>경상북도 포항시 북구</td>\n",
              "      <td>경상북도 포항시</td>\n",
              "      <td>36.041790</td>\n",
              "      <td>129.369601</td>\n",
              "    </tr>\n",
              "    <tr>\n",
              "      <th>11123</th>\n",
              "      <td>음식점</td>\n",
              "      <td>과메기특구일호식당</td>\n",
              "      <td>경상북도 포항시 북구</td>\n",
              "      <td>경상북도 포항시</td>\n",
              "      <td>36.027883</td>\n",
              "      <td>129.355814</td>\n",
              "    </tr>\n",
              "    <tr>\n",
              "      <th>11132</th>\n",
              "      <td>음식점</td>\n",
              "      <td>마라도회식당</td>\n",
              "      <td>경상북도 포항시 북구</td>\n",
              "      <td>경상북도 포항시</td>\n",
              "      <td>36.064788</td>\n",
              "      <td>129.387199</td>\n",
              "    </tr>\n",
              "    <tr>\n",
              "      <th>11155</th>\n",
              "      <td>축제공연행사</td>\n",
              "      <td>포항스틸아트페스티벌 2020</td>\n",
              "      <td>경상북도 포항시 북구</td>\n",
              "      <td>경상북도 포항시</td>\n",
              "      <td>36.062355</td>\n",
              "      <td>129.381999</td>\n",
              "    </tr>\n",
              "    <tr>\n",
              "      <th>11708</th>\n",
              "      <td>관광지</td>\n",
              "      <td>오천서원</td>\n",
              "      <td>경상북도 포항시 남구</td>\n",
              "      <td>경상북도 포항시</td>\n",
              "      <td>35.981942</td>\n",
              "      <td>129.397697</td>\n",
              "    </tr>\n",
              "  </tbody>\n",
              "</table>\n",
              "<p>176 rows × 6 columns</p>\n",
              "</div>"
            ],
            "text/plain": [
              "         관광유형               명칭           도시       시군구         위도          경도\n",
              "8775      관광지             덕수공원  경상북도 포항시 북구  경상북도 포항시  36.043962  129.360446\n",
              "8786      관광지        호미곶 해맞이광장  경상북도 포항시 남구  경상북도 포항시  36.077840  129.568260\n",
              "8795      관광지              보경사  경상북도 포항시 북구  경상북도 포항시  36.252121  129.318021\n",
              "8819      관광지             하옥계곡  경상북도 포항시 북구  경상북도 포항시  36.312777  129.252548\n",
              "8822      관광지            영일만온천  경상북도 포항시 남구  경상북도 포항시  35.952919  129.361457\n",
              "...       ...              ...          ...       ...        ...         ...\n",
              "11078     음식점           고향숯불갈비  경상북도 포항시 북구  경상북도 포항시  36.041790  129.369601\n",
              "11123     음식점        과메기특구일호식당  경상북도 포항시 북구  경상북도 포항시  36.027883  129.355814\n",
              "11132     음식점           마라도회식당  경상북도 포항시 북구  경상북도 포항시  36.064788  129.387199\n",
              "11155  축제공연행사  포항스틸아트페스티벌 2020  경상북도 포항시 북구  경상북도 포항시  36.062355  129.381999\n",
              "11708     관광지             오천서원  경상북도 포항시 남구  경상북도 포항시  35.981942  129.397697\n",
              "\n",
              "[176 rows x 6 columns]"
            ]
          },
          "metadata": {},
          "execution_count": 51
        }
      ]
    },
    {
      "cell_type": "code",
      "metadata": {
        "colab": {
          "base_uri": "https://localhost:8080/",
          "height": 296
        },
        "id": "RDnPSB2HBDnu",
        "outputId": "32df3e75-211c-4994-f759-32968408168b"
      },
      "source": [
        "sns.countplot(data=sample_df,x=\"관광유형\")"
      ],
      "execution_count": 52,
      "outputs": [
        {
          "output_type": "execute_result",
          "data": {
            "text/plain": [
              "<matplotlib.axes._subplots.AxesSubplot at 0x7efc7e9b7250>"
            ]
          },
          "metadata": {},
          "execution_count": 52
        },
        {
          "output_type": "display_data",
          "data": {
            "image/png": "[encoded data removed]",
            "text/plain": [
              "<Figure size 432x288 with 1 Axes>"
            ]
          },
          "metadata": {
            "needs_background": "light"
          }
        }
      ]
    },
    {
      "cell_type": "markdown",
      "metadata": {
        "id": "x8RinaHyuNs6"
      },
      "source": [
        "## Top 과 Tail 중간 분석\n",
        "---------------------------------------\n",
        "### 공통점\n",
        "```\n",
        "- 전체 관광 인프라에서 관광지와 음식점의 비중이 높다.\n",
        "```\n",
        "\n",
        "### 차이점\n",
        "```\n",
        "- 관광지, 음식점을 제외한 관광 인프라의 개수 차이가 명확하다\n",
        "```"
      ]
    },
    {
      "cell_type": "markdown",
      "metadata": {
        "id": "p2e6BAoIiKtJ"
      },
      "source": [
        "# 8 상관계수 구하기"
      ]
    },
    {
      "cell_type": "code",
      "metadata": {
        "id": "w2X2BXEGiKPD"
      },
      "source": [
        "df_count = pd.read_csv(\"https://raw.githubusercontent.com/Dongguk-DataScience/Data_Science/main/dataset/total_count.csv\")"
      ],
      "execution_count": 53,
      "outputs": []
    },
    {
      "cell_type": "code",
      "metadata": {
        "colab": {
          "base_uri": "https://localhost:8080/",
          "height": 324
        },
        "id": "jG0ycSP_TrHM",
        "outputId": "31ed7646-2dbf-49a8-a3ae-b414b5264fbc"
      },
      "source": [
        "corr=df_count.corr()\n",
        "corr"
      ],
      "execution_count": 54,
      "outputs": [
        {
          "output_type": "execute_result",
          "data": {
            "text/html": [
              "<div>\n",
              "<style scoped>\n",
              "    .dataframe tbody tr th:only-of-type {\n",
              "        vertical-align: middle;\n",
              "    }\n",
              "\n",
              "    .dataframe tbody tr th {\n",
              "        vertical-align: top;\n",
              "    }\n",
              "\n",
              "    .dataframe thead th {\n",
              "        text-align: right;\n",
              "    }\n",
              "</style>\n",
              "<table border=\"1\" class=\"dataframe\">\n",
              "  <thead>\n",
              "    <tr style=\"text-align: right;\">\n",
              "      <th></th>\n",
              "      <th>관광지</th>\n",
              "      <th>음식점</th>\n",
              "      <th>문화시설</th>\n",
              "      <th>레포츠</th>\n",
              "      <th>숙박</th>\n",
              "      <th>축제공연행사</th>\n",
              "      <th>쇼핑</th>\n",
              "      <th>여행코스</th>\n",
              "      <th>방문자</th>\n",
              "    </tr>\n",
              "  </thead>\n",
              "  <tbody>\n",
              "    <tr>\n",
              "      <th>관광지</th>\n",
              "      <td>1.000000</td>\n",
              "      <td>0.696348</td>\n",
              "      <td>0.699906</td>\n",
              "      <td>0.578890</td>\n",
              "      <td>0.602485</td>\n",
              "      <td>0.571836</td>\n",
              "      <td>0.690204</td>\n",
              "      <td>0.694912</td>\n",
              "      <td>0.021886</td>\n",
              "    </tr>\n",
              "    <tr>\n",
              "      <th>음식점</th>\n",
              "      <td>0.696348</td>\n",
              "      <td>1.000000</td>\n",
              "      <td>0.778079</td>\n",
              "      <td>0.367248</td>\n",
              "      <td>0.661870</td>\n",
              "      <td>0.648886</td>\n",
              "      <td>0.781580</td>\n",
              "      <td>0.535936</td>\n",
              "      <td>0.195134</td>\n",
              "    </tr>\n",
              "    <tr>\n",
              "      <th>문화시설</th>\n",
              "      <td>0.699906</td>\n",
              "      <td>0.778079</td>\n",
              "      <td>1.000000</td>\n",
              "      <td>0.399819</td>\n",
              "      <td>0.542667</td>\n",
              "      <td>0.841643</td>\n",
              "      <td>0.827946</td>\n",
              "      <td>0.596729</td>\n",
              "      <td>0.352031</td>\n",
              "    </tr>\n",
              "    <tr>\n",
              "      <th>레포츠</th>\n",
              "      <td>0.578890</td>\n",
              "      <td>0.367248</td>\n",
              "      <td>0.399819</td>\n",
              "      <td>1.000000</td>\n",
              "      <td>0.451257</td>\n",
              "      <td>0.408204</td>\n",
              "      <td>0.291585</td>\n",
              "      <td>0.447669</td>\n",
              "      <td>0.190397</td>\n",
              "    </tr>\n",
              "    <tr>\n",
              "      <th>숙박</th>\n",
              "      <td>0.602485</td>\n",
              "      <td>0.661870</td>\n",
              "      <td>0.542667</td>\n",
              "      <td>0.451257</td>\n",
              "      <td>1.000000</td>\n",
              "      <td>0.548058</td>\n",
              "      <td>0.517270</td>\n",
              "      <td>0.413377</td>\n",
              "      <td>0.132049</td>\n",
              "    </tr>\n",
              "    <tr>\n",
              "      <th>축제공연행사</th>\n",
              "      <td>0.571836</td>\n",
              "      <td>0.648886</td>\n",
              "      <td>0.841643</td>\n",
              "      <td>0.408204</td>\n",
              "      <td>0.548058</td>\n",
              "      <td>1.000000</td>\n",
              "      <td>0.716041</td>\n",
              "      <td>0.485358</td>\n",
              "      <td>0.369832</td>\n",
              "    </tr>\n",
              "    <tr>\n",
              "      <th>쇼핑</th>\n",
              "      <td>0.690204</td>\n",
              "      <td>0.781580</td>\n",
              "      <td>0.827946</td>\n",
              "      <td>0.291585</td>\n",
              "      <td>0.517270</td>\n",
              "      <td>0.716041</td>\n",
              "      <td>1.000000</td>\n",
              "      <td>0.568450</td>\n",
              "      <td>0.211147</td>\n",
              "    </tr>\n",
              "    <tr>\n",
              "      <th>여행코스</th>\n",
              "      <td>0.694912</td>\n",
              "      <td>0.535936</td>\n",
              "      <td>0.596729</td>\n",
              "      <td>0.447669</td>\n",
              "      <td>0.413377</td>\n",
              "      <td>0.485358</td>\n",
              "      <td>0.568450</td>\n",
              "      <td>1.000000</td>\n",
              "      <td>0.048506</td>\n",
              "    </tr>\n",
              "    <tr>\n",
              "      <th>방문자</th>\n",
              "      <td>0.021886</td>\n",
              "      <td>0.195134</td>\n",
              "      <td>0.352031</td>\n",
              "      <td>0.190397</td>\n",
              "      <td>0.132049</td>\n",
              "      <td>0.369832</td>\n",
              "      <td>0.211147</td>\n",
              "      <td>0.048506</td>\n",
              "      <td>1.000000</td>\n",
              "    </tr>\n",
              "  </tbody>\n",
              "</table>\n",
              "</div>"
            ],
            "text/plain": [
              "             관광지       음식점      문화시설  ...        쇼핑      여행코스       방문자\n",
              "관광지     1.000000  0.696348  0.699906  ...  0.690204  0.694912  0.021886\n",
              "음식점     0.696348  1.000000  0.778079  ...  0.781580  0.535936  0.195134\n",
              "문화시설    0.699906  0.778079  1.000000  ...  0.827946  0.596729  0.352031\n",
              "레포츠     0.578890  0.367248  0.399819  ...  0.291585  0.447669  0.190397\n",
              "숙박      0.602485  0.661870  0.542667  ...  0.517270  0.413377  0.132049\n",
              "축제공연행사  0.571836  0.648886  0.841643  ...  0.716041  0.485358  0.369832\n",
              "쇼핑      0.690204  0.781580  0.827946  ...  1.000000  0.568450  0.211147\n",
              "여행코스    0.694912  0.535936  0.596729  ...  0.568450  1.000000  0.048506\n",
              "방문자     0.021886  0.195134  0.352031  ...  0.211147  0.048506  1.000000\n",
              "\n",
              "[9 rows x 9 columns]"
            ]
          },
          "metadata": {},
          "execution_count": 54
        }
      ]
    },
    {
      "cell_type": "code",
      "metadata": {
        "colab": {
          "base_uri": "https://localhost:8080/"
        },
        "id": "LvNatOO8X0kW",
        "outputId": "e7000fd2-fee2-4965-c2ba-a5fb5c37683b"
      },
      "source": [
        "mask = np.triu(np.ones_like(corr))\n",
        "mask"
      ],
      "execution_count": 55,
      "outputs": [
        {
          "output_type": "execute_result",
          "data": {
            "text/plain": [
              "array([[1., 1., 1., 1., 1., 1., 1., 1., 1.],\n",
              "       [0., 1., 1., 1., 1., 1., 1., 1., 1.],\n",
              "       [0., 0., 1., 1., 1., 1., 1., 1., 1.],\n",
              "       [0., 0., 0., 1., 1., 1., 1., 1., 1.],\n",
              "       [0., 0., 0., 0., 1., 1., 1., 1., 1.],\n",
              "       [0., 0., 0., 0., 0., 1., 1., 1., 1.],\n",
              "       [0., 0., 0., 0., 0., 0., 1., 1., 1.],\n",
              "       [0., 0., 0., 0., 0., 0., 0., 1., 1.],\n",
              "       [0., 0., 0., 0., 0., 0., 0., 0., 1.]])"
            ]
          },
          "metadata": {},
          "execution_count": 55
        }
      ]
    },
    {
      "cell_type": "code",
      "metadata": {
        "colab": {
          "base_uri": "https://localhost:8080/"
        },
        "id": "cjWrOLyibueo",
        "outputId": "bf4d60f9-d2c3-4e7b-82af-5aeb415df901"
      },
      "source": [
        "print(plt.colormaps())"
      ],
      "execution_count": 56,
      "outputs": [
        {
          "output_type": "stream",
          "text": [
            "['Accent', 'Accent_r', 'Blues', 'Blues_r', 'BrBG', 'BrBG_r', 'BuGn', 'BuGn_r', 'BuPu', 'BuPu_r', 'CMRmap', 'CMRmap_r', 'Dark2', 'Dark2_r', 'GnBu', 'GnBu_r', 'Greens', 'Greens_r', 'Greys', 'Greys_r', 'OrRd', 'OrRd_r', 'Oranges', 'Oranges_r', 'PRGn', 'PRGn_r', 'Paired', 'Paired_r', 'Pastel1', 'Pastel1_r', 'Pastel2', 'Pastel2_r', 'PiYG', 'PiYG_r', 'PuBu', 'PuBuGn', 'PuBuGn_r', 'PuBu_r', 'PuOr', 'PuOr_r', 'PuRd', 'PuRd_r', 'Purples', 'Purples_r', 'RdBu', 'RdBu_r', 'RdGy', 'RdGy_r', 'RdPu', 'RdPu_r', 'RdYlBu', 'RdYlBu_r', 'RdYlGn', 'RdYlGn_r', 'Reds', 'Reds_r', 'Set1', 'Set1_r', 'Set2', 'Set2_r', 'Set3', 'Set3_r', 'Spectral', 'Spectral_r', 'Wistia', 'Wistia_r', 'YlGn', 'YlGnBu', 'YlGnBu_r', 'YlGn_r', 'YlOrBr', 'YlOrBr_r', 'YlOrRd', 'YlOrRd_r', 'afmhot', 'afmhot_r', 'autumn', 'autumn_r', 'binary', 'binary_r', 'bone', 'bone_r', 'brg', 'brg_r', 'bwr', 'bwr_r', 'cividis', 'cividis_r', 'cool', 'cool_r', 'coolwarm', 'coolwarm_r', 'copper', 'copper_r', 'crest', 'crest_r', 'cubehelix', 'cubehelix_r', 'flag', 'flag_r', 'flare', 'flare_r', 'gist_earth', 'gist_earth_r', 'gist_gray', 'gist_gray_r', 'gist_heat', 'gist_heat_r', 'gist_ncar', 'gist_ncar_r', 'gist_rainbow', 'gist_rainbow_r', 'gist_stern', 'gist_stern_r', 'gist_yarg', 'gist_yarg_r', 'gnuplot', 'gnuplot2', 'gnuplot2_r', 'gnuplot_r', 'gray', 'gray_r', 'hot', 'hot_r', 'hsv', 'hsv_r', 'icefire', 'icefire_r', 'inferno', 'inferno_r', 'jet', 'jet_r', 'magma', 'magma_r', 'mako', 'mako_r', 'nipy_spectral', 'nipy_spectral_r', 'ocean', 'ocean_r', 'pink', 'pink_r', 'plasma', 'plasma_r', 'prism', 'prism_r', 'rainbow', 'rainbow_r', 'rocket', 'rocket_r', 'seismic', 'seismic_r', 'spring', 'spring_r', 'summer', 'summer_r', 'tab10', 'tab10_r', 'tab20', 'tab20_r', 'tab20b', 'tab20b_r', 'tab20c', 'tab20c_r', 'terrain', 'terrain_r', 'twilight', 'twilight_r', 'twilight_shifted', 'twilight_shifted_r', 'viridis', 'viridis_r', 'vlag', 'vlag_r', 'winter', 'winter_r']\n"
          ],
          "name": "stdout"
        }
      ]
    },
    {
      "cell_type": "code",
      "metadata": {
        "id": "vU23QrUfcXto",
        "colab": {
          "base_uri": "https://localhost:8080/",
          "height": 884
        },
        "outputId": "1a2d0fd4-a992-40c4-c9c8-61b89ba777bf"
      },
      "source": [
        "plt.figure(figsize=(15,15))\n",
        "sns.heatmap(corr, annot=True, cmap = \"RdBu_r\", vmax=1, vmin= -1, mask =mask)"
      ],
      "execution_count": 57,
      "outputs": [
        {
          "output_type": "execute_result",
          "data": {
            "text/plain": [
              "<matplotlib.axes._subplots.AxesSubplot at 0x7efc7e9b91d0>"
            ]
          },
          "metadata": {},
          "execution_count": 57
        },
        {
          "output_type": "display_data",
          "data": {
            "image/png": "[encoded data removed]",
            "text/plain": [
              "<Figure size 1080x1080 with 2 Axes>"
            ]
          },
          "metadata": {
            "needs_background": "light"
          }
        }
      ]
    },
    {
      "cell_type": "markdown",
      "metadata": {
        "id": "HJNgLs7KiWY8"
      },
      "source": [
        "Result\n",
        "=======================\n",
        "- 문화시설과 축제공연행사는 양적 선형관계가 관측되지만 다른 인프라와의 상관 관계는 관측되지 않았다.\n",
        "\n",
        "> Hypothesis Test : 각 지역의 외부 방문자 수와 해당 지역 관광 인프라 수의 상관 관계가 명확하지 않다\n",
        "> > 관광 인프라만으로는 결론 도출이 어렵기에 다른 부가적인 요소의 작용이 크다고 판단\n",
        "> > > 방문자 수 증진 요소들에 대한 추가적인 분석이 필요"
      ]
    },
    {
      "cell_type": "markdown",
      "metadata": {
        "id": "25OSURzxluCS"
      },
      "source": [
        "## 첨언\n",
        "-------------------------------------\n",
        "- 우수한 관광자원을 갖고있다 하더라도 관광정책이 구체적으로 시행되지 않으면 무익하다\n",
        "\n",
        "- 관광지 활성화에 있어서 지역 관광 자원보다는 해당 지역의 관광 사업을 지원하는 정책적인 지원이 더 큰 영향을 미침"
      ]
    },
    {
      "cell_type": "markdown",
      "metadata": {
        "id": "5rxKjBHIlifa"
      },
      "source": [
        "## 보충 자료\n",
        "---------------------------------\n",
        "- 추가적인 분석 및 전처리 과정을 참고하실 분들은 하위 링크를 참고해주시기 바랍니다.\n",
        "- [GitHub URL](https://github.com/Dongguk-DataScience/Data_Science/blob/main/README.md)"
      ]
    }
  ]
}